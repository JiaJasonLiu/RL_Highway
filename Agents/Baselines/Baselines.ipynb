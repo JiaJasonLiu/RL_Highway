{
 "cells": [
  {
   "cell_type": "markdown",
   "metadata": {},
   "source": [
    "# Baselines"
   ]
  },
  {
   "cell_type": "markdown",
   "metadata": {},
   "source": [
    "## Baseline Agent"
   ]
  },
  {
   "cell_type": "code",
   "execution_count": 2,
   "metadata": {},
   "outputs": [],
   "source": [
    "import gymnasium as gym\n",
    "import highway_env\n",
    "import os\n",
    "from tqdm import tqdm\n",
    "\n",
    "import sys\n",
    "sys.path.append(os.path.abspath('..'))\n",
    "from metrics import Metrics\n",
    "\n",
    "class BaseAgent:\n",
    "    def __init__(self, params):\n",
    "        self.episode_num = params.get(\"episode_num\", 10)\n",
    "        use_metrics = params.get(\"use_metrics\", False)\n",
    "        self.type = params.get(\"type\", \"random\")\n",
    "        self.metrics = Metrics(self.type, \"training_results\", use_metrics)\n",
    "        \n",
    "    def act(self, env):        \n",
    "        for epoch in tqdm(range(self.episode_num), desc=\"Training Agent\"):\n",
    "            env.reset()\n",
    "\n",
    "            done = False \n",
    "            truncated = False\n",
    "            episode_rewards = []\n",
    "            episode_len = 0\n",
    "            while(not done and not truncated):\n",
    "                \n",
    "                _, reward, done, truncated, _ = env.step(env.action_space.sample())\n",
    "                \n",
    "                episode_rewards.append(reward)\n",
    "                episode_len += 1\n",
    "                env.render()\n",
    "                \n",
    "            self.metrics.add(\"rollout/rewards\", sum(episode_rewards) / len(episode_rewards), epoch)\n",
    "            self.metrics.add(\"rollout/episode-length\", episode_len, epoch)\n",
    "            \n",
    "        self.metrics.close()"
   ]
  },
  {
   "cell_type": "markdown",
   "metadata": {},
   "source": [
    "## Human Agent"
   ]
  },
  {
   "cell_type": "code",
   "execution_count": null,
   "metadata": {},
   "outputs": [],
   "source": [
    "params= {\n",
    "        'use_metrics' : True,\n",
    "        'type': 'human',\n",
    "        'episode_num' : 10,\n",
    "        }\n",
    "human_agent = BaseAgent(params=params)\n",
    "env = gym.make('highway-v0', render_mode='rgb_array', config={\n",
    "        \"lanes_count\": 3,\n",
    "        \"manual_control\": True,\n",
    "})\n",
    "# Control with the arrow keys\n",
    "human_agent.act(env)"
   ]
  },
  {
   "cell_type": "markdown",
   "metadata": {},
   "source": [
    "## Random Agent"
   ]
  },
  {
   "cell_type": "code",
   "execution_count": null,
   "metadata": {},
   "outputs": [],
   "source": [
    "params= {\n",
    "        'use_metrics' : True,\n",
    "        'type': 'random',\n",
    "        'episode_num' : 10,\n",
    "        }\n",
    "\n",
    "random_agent = BaseAgent(params=params)\n",
    "env = gym.make('highway-v0', render_mode='rgb_array', config={\n",
    "        \"lanes_count\": 3,\n",
    "})\n",
    "random_agent.act(env)"
   ]
  },
  {
   "cell_type": "markdown",
   "metadata": {},
   "source": [
    "## Run Tensorboard"
   ]
  },
  {
   "cell_type": "code",
   "execution_count": 5,
   "metadata": {},
   "outputs": [
    {
     "data": {
      "text/html": [
       "\n",
       "      <iframe id=\"tensorboard-frame-fa291606eabf7467\" width=\"100%\" height=\"800\" frameborder=\"0\">\n",
       "      </iframe>\n",
       "      <script>\n",
       "        (function() {\n",
       "          const frame = document.getElementById(\"tensorboard-frame-fa291606eabf7467\");\n",
       "          const url = new URL(\"/\", window.location);\n",
       "          const port = 6010;\n",
       "          if (port) {\n",
       "            url.port = port;\n",
       "          }\n",
       "          frame.src = url;\n",
       "        })();\n",
       "      </script>\n",
       "    "
      ],
      "text/plain": [
       "<IPython.core.display.HTML object>"
      ]
     },
     "metadata": {},
     "output_type": "display_data"
    }
   ],
   "source": [
    "%reload_ext tensorboard\n",
    "\n",
    "%tensorboard --logdir training_results --host localhost --port 6010"
   ]
  }
 ],
 "metadata": {
  "kernelspec": {
   "display_name": "base",
   "language": "python",
   "name": "python3"
  },
  "language_info": {
   "codemirror_mode": {
    "name": "ipython",
    "version": 3
   },
   "file_extension": ".py",
   "mimetype": "text/x-python",
   "name": "python",
   "nbconvert_exporter": "python",
   "pygments_lexer": "ipython3",
   "version": "3.9.12"
  }
 },
 "nbformat": 4,
 "nbformat_minor": 2
}
