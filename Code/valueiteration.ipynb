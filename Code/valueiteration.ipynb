{
 "cells": [
  {
   "cell_type": "code",
   "execution_count": 23,
   "metadata": {},
   "outputs": [
    {
     "name": "stdout",
     "output_type": "stream",
     "text": [
      "The tensorboard extension is already loaded. To reload it, use:\n",
      "  %reload_ext tensorboard\n",
      "Requirement already satisfied: tensorboardx in /home/ekda/anaconda3/envs/rl/lib/python3.9/site-packages (2.6.2.2)\n",
      "Requirement already satisfied: gym in /home/ekda/anaconda3/envs/rl/lib/python3.9/site-packages (0.26.2)\n",
      "Requirement already satisfied: pyvirtualdisplay in /home/ekda/anaconda3/envs/rl/lib/python3.9/site-packages (3.0)\n",
      "Requirement already satisfied: numpy in /home/ekda/anaconda3/envs/rl/lib/python3.9/site-packages (from tensorboardx) (2.0.2)\n",
      "Requirement already satisfied: packaging in /home/ekda/anaconda3/envs/rl/lib/python3.9/site-packages (from tensorboardx) (24.2)\n",
      "Requirement already satisfied: protobuf>=3.20 in /home/ekda/anaconda3/envs/rl/lib/python3.9/site-packages (from tensorboardx) (5.29.1)\n",
      "Requirement already satisfied: cloudpickle>=1.2.0 in /home/ekda/anaconda3/envs/rl/lib/python3.9/site-packages (from gym) (3.1.0)\n",
      "Requirement already satisfied: importlib_metadata>=4.8.0 in /home/ekda/anaconda3/envs/rl/lib/python3.9/site-packages (from gym) (8.5.0)\n",
      "Requirement already satisfied: gym_notices>=0.0.4 in /home/ekda/anaconda3/envs/rl/lib/python3.9/site-packages (from gym) (0.0.8)\n",
      "Requirement already satisfied: zipp>=3.20 in /home/ekda/anaconda3/envs/rl/lib/python3.9/site-packages (from importlib_metadata>=4.8.0->gym) (3.21.0)\n"
     ]
    }
   ],
   "source": [
    "import gymnasium\n",
    "import highway_env\n",
    "# import finite-mdp\n",
    "\n",
    "%load_ext tensorboard\n",
    "import sys\n",
    "from tqdm.notebook import trange\n",
    "!pip install tensorboardx gym pyvirtualdisplay\n",
    "# doesn't work cause not linux\n",
    "# !apt-get install -y xvfb ffmpeg\n",
    "!git clone https://github.com/Farama-Foundation/HighwayEnv.git 2> /dev/null\n",
    "!git clone https://github.com/eleurent/finite-mdp.git 2> /dev/null\n",
    "sys.path.insert(0, '/content/HighwayEnv/scripts/')\n",
    "# from utils import record_videos, show_videos\n",
    "\n"
   ]
  },
  {
   "cell_type": "code",
   "execution_count": null,
   "metadata": {},
   "outputs": [
    {
     "name": "stdout",
     "output_type": "stream",
     "text": [
      "None\n"
     ]
    }
   ],
   "source": [
    "\n",
    "    # def is_finite_mdp(env):\n",
    "\n",
    "finite_mdp_prep = __import__(\"finite-mdp.finite_mdp\")\n",
    "# print(finite_mdp_prep.__file__)\n",
    "# g = finite_mdp_prep.finite_mdp\n",
    "# f = g.envs.finite_mdp_envs\n",
    "# finite_mdp = __import__(\"finite-mdp.finite_mdp.envs.finite_mdp_env\")\n"
   ]
  },
  {
   "cell_type": "code",
   "execution_count": null,
   "metadata": {},
   "outputs": [],
   "source": [
    "import gymnasium as gym\n",
    "import highway_env\n",
    "from stable_baselines3 import DQN\n",
    "\n",
    "class ValueIteration:\n",
    "    def __init__(self):\n",
    "        pass\n",
    "\n",
    "# Visualization utils\n"
   ]
  }
 ],
 "metadata": {
  "kernelspec": {
   "display_name": "rl",
   "language": "python",
   "name": "python3"
  },
  "language_info": {
   "codemirror_mode": {
    "name": "ipython",
    "version": 3
   },
   "file_extension": ".py",
   "mimetype": "text/x-python",
   "name": "python",
   "nbconvert_exporter": "python",
   "pygments_lexer": "ipython3",
   "version": "3.9.21"
  }
 },
 "nbformat": 4,
 "nbformat_minor": 2
}
