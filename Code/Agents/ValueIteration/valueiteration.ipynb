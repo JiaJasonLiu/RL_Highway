{
 "cells": [
  {
   "cell_type": "code",
   "execution_count": 1,
   "metadata": {},
   "outputs": [],
   "source": [
    "import gymnasium\n",
    "import highway_env\n",
    "# import finite-mdp\n",
    "# from finite_mdp.envs import finite_mdp_env\n",
    "\n",
    "%load_ext tensorboard\n",
    "import sys\n",
    "from tqdm.notebook import trange\n",
    "# !pip install tensorboardx gym pyvirtualdisplay\n",
    "# doesn't work cause not linux\n",
    "# !apt-get install -y xvfb ffmpeg\n",
    "# !git clone https://github.com/Farama-Foundation/HighwayEnv.git 2> /dev/null\n",
    "# !git clone https://github.com/eleurent/finite-mdp.git 2> /dev/null\n",
    "sys.path.insert(0, '/content/HighwayEnv/scripts/')\n",
    "# from utils import record_videos, show_videos\n",
    "\n"
   ]
  },
  {
   "cell_type": "code",
   "execution_count": 2,
   "metadata": {},
   "outputs": [],
   "source": [
    "import numpy as np\n",
    "import json\n",
    "class NpEncoder(json.JSONEncoder):\n",
    "    def default(self, obj):\n",
    "        if isinstance(obj, np.integer):\n",
    "            return int(obj)\n",
    "        if isinstance(obj, np.floating):\n",
    "            return float(obj)\n",
    "        if isinstance(obj, np.ndarray):\n",
    "            return obj.tolist()\n",
    "        return super(NpEncoder, self).default(obj)\n",
    "    \n",
    "# https://stackoverflow.com/questions/50916422/python-typeerror-object-of-type-int64-is-not-json-serializable"
   ]
  },
  {
   "cell_type": "code",
   "execution_count": 2,
   "metadata": {},
   "outputs": [],
   "source": [
    "\n",
    "import gymnasium as gym\n",
    "import json\n",
    "import random\n",
    "import highway_env\n",
    "\n",
    "import numpy as np\n",
    "from collections import defaultdict\n",
    "import os\n",
    "from tqdm import tqdm\n",
    "\n",
    "\n",
    "import sys\n",
    "sys.path.append(os.path.abspath('..'))\n",
    "from metrics import Metrics\n",
    "\n",
    "\n",
    "\n",
    "class QLearningAgent:\n",
    "    def __init__(self, env, params):\n",
    "        self.env = env\n",
    " \n",
    "        self.exploration_rate = params.get(\"exploration_rate\", 0.3)\n",
    "        self.q_table = defaultdict()\n",
    "        self.q_table_path = \"q_table.json\"\n",
    "        self.load_q_table()\n",
    "        self.action_space = env.action_space.n\n",
    "        use_metrics = params.get(\"use_metrics\", False)\n",
    "\n",
    "        self.discount_factor = params.get(\"gamma\", 0.9) # Discount Factor\n",
    "        self.episode_num = params.get(\"episode_num\", 100)\n",
    "        self.metrics = Metrics(\"value_iteration\", \"training_results\", use_metrics)\n",
    "\n",
    "\n",
    "    def choose_action(self, state):\n",
    "        if random.random() < self.exploration_rate:\n",
    "            return self.env.action_space.sample()  # Explore: random action\n",
    "        else:\n",
    "            try:\n",
    "                return str(max(self.q_table[state], key = self.q_table[state].get))\n",
    "            except:\n",
    "                return self.env.action_space.sample()\n",
    "\n",
    "\n",
    "    def train(self):\n",
    "        for epoch in tqdm(range(self.episode_num), desc=\"Training Model\"):\n",
    "            state = str(self.env.reset()[0])  # Convert state to string for indexing\n",
    "            done = False\n",
    "            theta = 0.01\n",
    "            gamma_counter = 0\n",
    "            truncated = False\n",
    "            episode_rewards = []\n",
    "            while not done and not truncated:\n",
    "\n",
    "                action = str(self.choose_action(state))\n",
    "\n",
    "                next_obs, reward, done, truncated, info = self.env.step(action)\n",
    "                next_state = str(next_obs)\n",
    "\n",
    "                if state not in self.q_table:\n",
    "                    self.q_table[state] = {str(i): 0 for i in range(0, self.action_space)}\n",
    "\n",
    "\n",
    "                if next_state not in self.q_table:\n",
    "                    self.q_table[next_state] = {str(i): 0 for i in range(0, self.action_space)}\n",
    "\n",
    "                best_next_action = str(max(self.q_table[next_state], key = self.q_table[next_state].get))\n",
    "                \n",
    "                self.q_table[state][action] = reward + self.discount_factor * self.q_table[next_state][best_next_action]\n",
    "\n",
    "                episode_rewards.append(reward + self.discount_factor * self.q_table[next_state][best_next_action])\n",
    "\n",
    "\n",
    "                if (self.discount_factor** gamma_counter * reward ) < theta:\n",
    "                    break\n",
    "\n",
    "                gamma_counter += 1\n",
    "\n",
    "                state = next_state\n",
    "\n",
    "\n",
    "            self.metrics.add(\"rollout/rewards\", sum(episode_rewards) / len(episode_rewards), epoch)\n",
    "            self.metrics.add(\"rollout/episode-length\", gamma_counter, epoch)\n",
    "\n",
    "            if (gamma_counter + 1) % 50 == 0:\n",
    "                print(f\"Episode {gamma_counter + 1}/{self.episode_num}\")\n",
    "\n",
    "\n",
    "        self.save_q_table()\n",
    "        self.metrics.close()\n",
    "\n",
    "    def evaluate(self, episodes = 10):\n",
    "        for episode in tqdm(range(episodes), desc=\"Evaluate Model\"):\n",
    "            state = str(self.env.reset()[0])\n",
    "            done = False\n",
    "            total_reward = 0\n",
    "            step = 0\n",
    "            \n",
    "            while not done:\n",
    "                step += 1\n",
    "                \n",
    "                try:\n",
    "                    action = str(max(self.q_table[state], key = self.q_table[state].get))\n",
    "                except:\n",
    "                    action = self.env.action_space.sample()\n",
    "\n",
    "                next_obs, reward, done, truncated, info = self.env.step(action)\n",
    "                state = str(next_obs)\n",
    "                total_reward += reward\n",
    "                if total_reward > 50:\n",
    "                    break\n",
    "                # self.env.render()\n",
    "\n",
    "            # print(f\"Episode {episode + 1}/{episodes}, Total Reward: {total_reward}, Steps: {step}\")\n",
    "\n",
    "    def load_q_table(self):\n",
    "        if os.path.exists(self.q_table_path):\n",
    "            try:\n",
    "                with open(self.q_table_path, 'r') as file:\n",
    "                # self.q_table = np.load(self.q_table_path, allow_pickle=True).item()\n",
    "                    loaded =  json.load(file)\n",
    "                    self.q_table.update(loaded)\n",
    "                    # print(type(self.q_table))\n",
    "                    print(\"Q-table loaded successfully.\")\n",
    "            except Exception as e:\n",
    "                print(f\"Error loading Q-table: {e}\")\n",
    "\n",
    "    def save_q_table(self):\n",
    "        try:\n",
    "            with open(self.q_table_path, 'w') as file:  \n",
    "                json.dump(self.q_table, file, indent=4)\n",
    "                print(\"Q-table saved successfully.\")\n",
    "        except Exception as e:\n",
    "            print(f\"Error saving Q-table: {e}\")"
   ]
  },
  {
   "cell_type": "code",
   "execution_count": 3,
   "metadata": {},
   "outputs": [
    {
     "name": "stdout",
     "output_type": "stream",
     "text": [
      "Q-table loaded successfully.\n"
     ]
    },
    {
     "name": "stderr",
     "output_type": "stream",
     "text": [
      "Training Model:   0%|          | 0/10 [00:00<?, ?it/s]"
     ]
    },
    {
     "name": "stderr",
     "output_type": "stream",
     "text": [
      "Training Model: 100%|██████████| 10/10 [00:18<00:00,  1.82s/it]"
     ]
    },
    {
     "name": "stdout",
     "output_type": "stream",
     "text": [
      "Q-table saved successfully.\n"
     ]
    },
    {
     "name": "stderr",
     "output_type": "stream",
     "text": [
      "\n"
     ]
    }
   ],
   "source": [
    "config = {\n",
    "    \"lanes_count\": 3,\n",
    "    \"observation\": {\n",
    "        \"type\": \"TimeToCollision\",\n",
    "        \"horizon\": 5,\n",
    "    }}\n",
    "\n",
    "env = gym.make(\"highway-fast-v0\", render_mode=\"rgb_array\", config=config)\n",
    "\n",
    "params = {\n",
    "    \"use_metrics\": True,\n",
    "    \"episode_num\": 10,\n",
    "    \"gamma\": 0.9, # Discount Factor\n",
    "    \"exploration_rate\": 0.3,\n",
    "}\n",
    "\n",
    "agent = QLearningAgent(env, params=params)\n",
    "agent.train()"
   ]
  },
  {
   "cell_type": "code",
   "execution_count": 4,
   "metadata": {},
   "outputs": [
    {
     "name": "stderr",
     "output_type": "stream",
     "text": [
      "Evaluate Model: 100%|██████████| 10/10 [00:24<00:00,  2.47s/it]\n"
     ]
    }
   ],
   "source": [
    "env = gym.make(\"highway-v0\", render_mode=\"rgb_array\",   config=config)\n",
    "agent.evaluate(10)"
   ]
  },
  {
   "cell_type": "code",
   "execution_count": 1,
   "metadata": {},
   "outputs": [
    {
     "data": {
      "text/plain": [
       "Launching TensorBoard..."
      ]
     },
     "metadata": {},
     "output_type": "display_data"
    }
   ],
   "source": [
    "%reload_ext tensorboard\n",
    "\n",
    "%tensorboard --logdir training_results --host localhost --port 6012"
   ]
  }
 ],
 "metadata": {
  "kernelspec": {
   "display_name": "rl",
   "language": "python",
   "name": "python3"
  },
  "language_info": {
   "codemirror_mode": {
    "name": "ipython",
    "version": 3
   },
   "file_extension": ".py",
   "mimetype": "text/x-python",
   "name": "python",
   "nbconvert_exporter": "python",
   "pygments_lexer": "ipython3",
   "version": "3.9.21"
  }
 },
 "nbformat": 4,
 "nbformat_minor": 2
}
